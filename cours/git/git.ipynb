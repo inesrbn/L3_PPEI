{
 "cells": [
  {
   "cell_type": "markdown",
   "id": "bf7b5f90-be37-4ecb-a26b-b130c6ba688d",
   "metadata": {
    "slideshow": {
     "slide_type": "slide"
    },
    "tags": []
   },
   "source": [
    "# `git`: commandes de base\n",
    "\n",
    " * initialiser un projet\n",
    " * ajouter des fichiers au contrôle de version\n",
    " * enregistrer les changements\n",
    " * inspecter l'historique des changements\n",
    " * utiliser un serveur\n",
    " * gérer les conflits"
   ]
  },
  {
   "cell_type": "code",
   "execution_count": 1,
   "id": "5ccb24dd-5e7b-4b03-a06b-b3b85e8e584e",
   "metadata": {
    "slideshow": {
     "slide_type": "fragment"
    },
    "tags": []
   },
   "outputs": [
    {
     "name": "stdout",
     "output_type": "stream",
     "text": [
      "ready\n"
     ]
    }
   ],
   "source": [
    "# juste pour faire fonctionner ce cours\n",
    "#  * configure bash\n",
    "#  * efface les dépôts\n",
    "#  * définit une commande edit pour ajouter du texte à un fichier\n",
    ". bashrc"
   ]
  },
  {
   "cell_type": "markdown",
   "id": "15d86402-14f9-4360-bbfd-bfcbfba12239",
   "metadata": {
    "slideshow": {
     "slide_type": "slide"
    },
    "tags": []
   },
   "source": [
    "## Création d'un nouveau projet\n",
    "\n",
    " * créer un répertoire et se placer dedans\n",
    " * initialiser le dépôt `git`"
   ]
  },
  {
   "cell_type": "code",
   "execution_count": 2,
   "id": "9c9a3f5d-1942-46f1-acb1-e88288b97bc6",
   "metadata": {
    "slideshow": {
     "slide_type": "fragment"
    },
    "tags": []
   },
   "outputs": [
    {
     "name": "stdout",
     "output_type": "stream",
     "text": [
      "total 10\n",
      "drwxrwxr-x 2 franck franck 2 Jun 23 14:36 .\n",
      "drwxrwxr-x 4 franck franck 8 Jun 23 14:36 ..\n"
     ]
    }
   ],
   "source": [
    "mkdir project\n",
    "cd project\n",
    "ls -la"
   ]
  },
  {
   "cell_type": "code",
   "execution_count": 3,
   "id": "7ec45a23-6963-4123-b389-03389fccfd89",
   "metadata": {
    "slideshow": {
     "slide_type": "fragment"
    },
    "tags": []
   },
   "outputs": [
    {
     "name": "stdout",
     "output_type": "stream",
     "text": [
      "Initialized empty Git repository in /home/franck/work/cours/ppei/git/project/.git/\n"
     ]
    }
   ],
   "source": [
    "git init"
   ]
  },
  {
   "cell_type": "code",
   "execution_count": 4,
   "id": "79e190d8-1b66-40a0-a94b-bc1523ded244",
   "metadata": {
    "slideshow": {
     "slide_type": "fragment"
    },
    "tags": []
   },
   "outputs": [
    {
     "name": "stdout",
     "output_type": "stream",
     "text": [
      "total 27\n",
      "drwxrwxr-x 3 franck franck  3 Jun 23 14:36 .\n",
      "drwxrwxr-x 4 franck franck  8 Jun 23 14:36 ..\n",
      "drwxrwxr-x 7 franck franck 10 Jun 23 14:36 .git\n"
     ]
    }
   ],
   "source": [
    "ls -la"
   ]
  },
  {
   "cell_type": "markdown",
   "id": "a9617761-eab2-4bd7-b3c0-2b7d9289cf61",
   "metadata": {
    "slideshow": {
     "slide_type": "slide"
    },
    "tags": []
   },
   "source": [
    "## Configurer `git`\n",
    "\n",
    " * utiliser `git config --global ...` pour appliquer l'option à tous les dépôts\n",
    " * il restera possible de configurer chaque dépôt différement en faisant comme ci-dessous\n",
    " * la configuration d'un dépôt n'est pas versionnée, elle reste locale"
   ]
  },
  {
   "cell_type": "code",
   "execution_count": 5,
   "id": "ac8908fc-1f60-4db2-9305-5b841af07009",
   "metadata": {
    "slideshow": {
     "slide_type": "fragment"
    }
   },
   "outputs": [],
   "source": [
    "git config user.name \"Franck Pommereau\"\n",
    "git config user.email \"franck.pommereau@univ-evry.fr\"\n",
    "git config core.editor \"kitty nvim\""
   ]
  },
  {
   "cell_type": "markdown",
   "id": "dae89f46-7cb6-4dcb-ad95-980159dc8843",
   "metadata": {
    "slideshow": {
     "slide_type": "slide"
    },
    "tags": []
   },
   "source": [
    "## Ajouter des fichiers\n",
    "\n",
    " * créer un fichier\n",
    " * contrôler l'état du dépôt\n",
    " * ajouter le fichier au dépôt\n",
    " * enregistrer les changements"
   ]
  },
  {
   "cell_type": "code",
   "execution_count": 6,
   "id": "5fdb2788-067b-4bdd-a9c4-9827b3437d56",
   "metadata": {
    "slideshow": {
     "slide_type": "fragment"
    },
    "tags": []
   },
   "outputs": [],
   "source": [
    "edit README.md\n",
    "# Sample project\n",
    "EOF"
   ]
  },
  {
   "cell_type": "code",
   "execution_count": 7,
   "id": "51d37466-f09b-42ec-bd75-5ce0e26bf89a",
   "metadata": {
    "slideshow": {
     "slide_type": "fragment"
    },
    "tags": []
   },
   "outputs": [
    {
     "name": "stdout",
     "output_type": "stream",
     "text": [
      "# Sample project\n"
     ]
    }
   ],
   "source": [
    "cat README.md"
   ]
  },
  {
   "cell_type": "code",
   "execution_count": 8,
   "id": "41291760-c256-4921-98a1-763411b0d00e",
   "metadata": {
    "slideshow": {
     "slide_type": "fragment"
    },
    "tags": []
   },
   "outputs": [
    {
     "name": "stdout",
     "output_type": "stream",
     "text": [
      "On branch main\n",
      "\n",
      "No commits yet\n",
      "\n",
      "Untracked files:\n",
      "  (use \"git add <file>...\" to include in what will be committed)\n",
      "\t\u001b[31mREADME.md\u001b[m\n",
      "\n",
      "nothing added to commit but untracked files present (use \"git add\" to track)\n"
     ]
    }
   ],
   "source": [
    "git status"
   ]
  },
  {
   "cell_type": "code",
   "execution_count": 9,
   "id": "d27da6a7-c55f-46b7-aef8-cc368000ea05",
   "metadata": {
    "slideshow": {
     "slide_type": "fragment"
    }
   },
   "outputs": [],
   "source": [
    "git add README.md"
   ]
  },
  {
   "cell_type": "code",
   "execution_count": 10,
   "id": "217e3915-3dd2-4827-8ea9-7dea3529c9dc",
   "metadata": {
    "slideshow": {
     "slide_type": "fragment"
    }
   },
   "outputs": [
    {
     "name": "stdout",
     "output_type": "stream",
     "text": [
      "On branch main\n",
      "\n",
      "No commits yet\n",
      "\n",
      "Changes to be committed:\n",
      "  (use \"git rm --cached <file>...\" to unstage)\n",
      "\t\u001b[32mnew file:   README.md\u001b[m\n",
      "\n"
     ]
    }
   ],
   "source": [
    "git status"
   ]
  },
  {
   "cell_type": "code",
   "execution_count": 11,
   "id": "177e9c78-cc07-43ca-9650-7db767bf87a9",
   "metadata": {
    "slideshow": {
     "slide_type": "fragment"
    }
   },
   "outputs": [
    {
     "name": "stdout",
     "output_type": "stream",
     "text": [
      "[main (root-commit) 2e13325] first version\n",
      " 1 file changed, 1 insertion(+)\n",
      " create mode 100644 README.md\n"
     ]
    }
   ],
   "source": [
    "git commit -m \"first version\""
   ]
  },
  {
   "cell_type": "code",
   "execution_count": 12,
   "id": "134f11e2-4bdd-4a04-adbc-9a972577d40f",
   "metadata": {
    "slideshow": {
     "slide_type": "fragment"
    }
   },
   "outputs": [
    {
     "name": "stdout",
     "output_type": "stream",
     "text": [
      "On branch main\n",
      "nothing to commit, working tree clean\n"
     ]
    }
   ],
   "source": [
    "git status"
   ]
  },
  {
   "cell_type": "markdown",
   "id": "5dd9047f-656b-495b-a41e-2faa9f314900",
   "metadata": {
    "slideshow": {
     "slide_type": "slide"
    },
    "tags": []
   },
   "source": [
    "## Tracer les changements\n",
    "\n",
    " * modifier un fichier\n",
    " * contrôler l'états du dépôt\n",
    " * voir les changements\n",
    " * enregistrer les changements\n",
    " * voir l'historique"
   ]
  },
  {
   "cell_type": "code",
   "execution_count": 13,
   "id": "83ff8f46-46c3-4281-ba36-f5aac22189aa",
   "metadata": {
    "slideshow": {
     "slide_type": "fragment"
    }
   },
   "outputs": [],
   "source": [
    "edit README.md\n",
    "\n",
    "This is a sample project.\n",
    "To be continued...\n",
    "EOF"
   ]
  },
  {
   "cell_type": "code",
   "execution_count": 14,
   "id": "43556a60-cf6b-46ab-9506-8cc7444bbcab",
   "metadata": {
    "slideshow": {
     "slide_type": "fragment"
    }
   },
   "outputs": [
    {
     "name": "stdout",
     "output_type": "stream",
     "text": [
      "# Sample project\n",
      "\n",
      "This is a sample project.\n",
      "To be continued...\n"
     ]
    }
   ],
   "source": [
    "cat README.md"
   ]
  },
  {
   "cell_type": "code",
   "execution_count": 15,
   "id": "bd0c0635-0430-45c3-b3fc-08659d0468df",
   "metadata": {
    "slideshow": {
     "slide_type": "fragment"
    }
   },
   "outputs": [
    {
     "name": "stdout",
     "output_type": "stream",
     "text": [
      "On branch main\n",
      "Changes not staged for commit:\n",
      "  (use \"git add <file>...\" to update what will be committed)\n",
      "  (use \"git restore <file>...\" to discard changes in working directory)\n",
      "\t\u001b[31mmodified:   README.md\u001b[m\n",
      "\n",
      "no changes added to commit (use \"git add\" and/or \"git commit -a\")\n"
     ]
    }
   ],
   "source": [
    "git status"
   ]
  },
  {
   "cell_type": "code",
   "execution_count": 16,
   "id": "8ae65b31-8766-4b3e-bf17-c26d930a5da1",
   "metadata": {
    "slideshow": {
     "slide_type": "fragment"
    }
   },
   "outputs": [
    {
     "name": "stdout",
     "output_type": "stream",
     "text": [
      "\u001b[1m\u001b[38;2;56;58;66m\u001b[1mdiff --git README.md README.md\u001b[0m\u001b[m\n",
      "\u001b[1m\u001b[38;2;56;58;66m\u001b[1mindex a737df5..30f09a7 100644\u001b[0m\u001b[m\n",
      "\u001b[1m\u001b[38;2;56;58;66m\u001b[1m--- README.md\u001b[0m\u001b[m\n",
      "\u001b[1m\u001b[38;2;56;58;66m\u001b[1m+++ README.md\u001b[0m\u001b[m\n",
      "\u001b[36m\u001b[38;2;56;58;66m\u001b[36m@@ -1 +1,4 @@\u001b[0m\u001b[m\n",
      "\u001b[38;2;56;58;66m # Sample project\u001b[0m\u001b[m\n",
      "\u001b[32m\u001b[38;2;56;58;66m\u001b[32m+\u001b[0m\u001b[m\n",
      "\u001b[32m\u001b[38;2;56;58;66m\u001b[32m+\u001b[0m\u001b[m\u001b[32m\u001b[38;2;56;58;66m\u001b[32mThis is a sample project.\u001b[0m\u001b[m\n",
      "\u001b[32m\u001b[38;2;56;58;66m\u001b[32m+\u001b[0m\u001b[m\u001b[32m\u001b[38;2;56;58;66m\u001b[32mTo be continued...\u001b[0m\u001b[m\n"
     ]
    }
   ],
   "source": [
    "git diff"
   ]
  },
  {
   "cell_type": "code",
   "execution_count": 17,
   "id": "a10f435d-32e4-47ad-8fc8-fd018b21fb71",
   "metadata": {
    "slideshow": {
     "slide_type": "fragment"
    }
   },
   "outputs": [
    {
     "name": "stdout",
     "output_type": "stream",
     "text": [
      "[main 7bb9cec] updated README.md\n",
      " 1 file changed, 3 insertions(+)\n"
     ]
    }
   ],
   "source": [
    "git commit -a -m \"updated README.md\""
   ]
  },
  {
   "cell_type": "code",
   "execution_count": 18,
   "id": "23e62ff6-6d00-4ae7-acf3-f019c6a85bd0",
   "metadata": {
    "slideshow": {
     "slide_type": "fragment"
    }
   },
   "outputs": [
    {
     "name": "stdout",
     "output_type": "stream",
     "text": [
      "\u001b[33m\u001b[38;2;56;58;66m\u001b[33mcommit 7bb9cec249ea2bd85a14c5796f7b6896c91056fd\u001b[0m\u001b[m\u001b[33m\u001b[38;2;56;58;66m\u001b[33m (\u001b[0m\u001b[m\u001b[1;36m\u001b[38;2;56;58;66m\u001b[36m\u001b[1;36mHEAD -> \u001b[0m\u001b[m\u001b[1;32m\u001b[38;2;56;58;66m\u001b[32m\u001b[1;32mmain\u001b[0m\u001b[m\u001b[33m\u001b[38;2;56;58;66m\u001b[33m)\u001b[0m\u001b[m\n",
      "\u001b[38;2;56;58;66mAuthor: Franck Pommereau <franck.pommereau@univ-evry.fr>\u001b[0m\n",
      "\u001b[38;2;56;58;66mDate:   Fri Jun 23 14:38:19 2023 +0200\u001b[0m\n",
      "\n",
      "\u001b[38;2;56;58;66m    updated README.md\u001b[0m\n",
      "\n",
      "\u001b[33m\u001b[38;2;56;58;66m\u001b[33mcommit 2e13325f39ad9827b0954ef25c14244e90bbe540\u001b[0m\u001b[m\n",
      "\u001b[38;2;56;58;66mAuthor: Franck Pommereau <franck.pommereau@univ-evry.fr>\u001b[0m\n",
      "\u001b[38;2;56;58;66mDate:   Fri Jun 23 14:37:34 2023 +0200\u001b[0m\n",
      "\n",
      "\u001b[38;2;56;58;66m    first version\u001b[0m\n"
     ]
    }
   ],
   "source": [
    "git log"
   ]
  },
  {
   "cell_type": "markdown",
   "id": "0946c242-987b-4fd5-b1f0-7892fbbbd775",
   "metadata": {
    "slideshow": {
     "slide_type": "slide"
    },
    "tags": []
   },
   "source": [
    "## Ajouter d'autres fichiers"
   ]
  },
  {
   "cell_type": "code",
   "execution_count": 19,
   "id": "cfccbd58-f5ee-44af-8f33-1ac2a3d49a90",
   "metadata": {
    "slideshow": {
     "slide_type": "fragment"
    }
   },
   "outputs": [],
   "source": [
    "edit src/hello.c\n",
    "#include <stdio.h>\n",
    "\n",
    "int main (void) {\n",
    "  printf(\"Hello world!\\n\");\n",
    "}\n",
    "EOF"
   ]
  },
  {
   "cell_type": "code",
   "execution_count": 20,
   "id": "c4f23bbc-cd75-44e4-8bfb-4659a35dbb30",
   "metadata": {
    "slideshow": {
     "slide_type": "fragment"
    }
   },
   "outputs": [],
   "source": [
    "edit Makefile\n",
    "hello: src/hello.c\n",
    "<TAB>gcc -c src/hello.c\n",
    "<TAB>gcc -o hello *.o\n",
    "EOF"
   ]
  },
  {
   "cell_type": "code",
   "execution_count": 21,
   "id": "352c25c1-1b1d-44dc-885a-9fbc2cd4910a",
   "metadata": {
    "slideshow": {
     "slide_type": "fragment"
    }
   },
   "outputs": [
    {
     "name": "stdout",
     "output_type": "stream",
     "text": [
      "On branch main\n",
      "Untracked files:\n",
      "  (use \"git add <file>...\" to include in what will be committed)\n",
      "\t\u001b[31mMakefile\u001b[m\n",
      "\t\u001b[31msrc/\u001b[m\n",
      "\n",
      "nothing added to commit but untracked files present (use \"git add\" to track)\n"
     ]
    }
   ],
   "source": [
    "git status"
   ]
  },
  {
   "cell_type": "code",
   "execution_count": 22,
   "id": "e44c938a-a138-4951-8615-a37e97d98e2d",
   "metadata": {
    "slideshow": {
     "slide_type": "fragment"
    }
   },
   "outputs": [
    {
     "name": "stdout",
     "output_type": "stream",
     "text": [
      "[main e00d230] added source code and Makefile\n",
      " 2 files changed, 8 insertions(+)\n",
      " create mode 100644 Makefile\n",
      " create mode 100644 src/hello.c\n"
     ]
    }
   ],
   "source": [
    "git add src/hello.c Makefile\n",
    "git commit -m \"added source code and Makefile\""
   ]
  },
  {
   "cell_type": "markdown",
   "id": "d89dae50-1dee-48c0-8332-f50094f1067a",
   "metadata": {
    "slideshow": {
     "slide_type": "slide"
    }
   },
   "source": [
    "## Ignorer certains fichiers\n",
    "\n",
    " * fichier `.gitignore`"
   ]
  },
  {
   "cell_type": "code",
   "execution_count": 23,
   "id": "6bd8bfd3-4efd-43dc-a35a-8dc65a2be809",
   "metadata": {
    "slideshow": {
     "slide_type": "fragment"
    }
   },
   "outputs": [
    {
     "name": "stdout",
     "output_type": "stream",
     "text": [
      "gcc -c src/hello.c\n",
      "gcc -o hello *.o\n"
     ]
    }
   ],
   "source": [
    "make"
   ]
  },
  {
   "cell_type": "code",
   "execution_count": 24,
   "id": "5530a330-7106-4af9-82b6-534b891c1ff0",
   "metadata": {
    "slideshow": {
     "slide_type": "fragment"
    }
   },
   "outputs": [
    {
     "name": "stdout",
     "output_type": "stream",
     "text": [
      "On branch main\n",
      "Untracked files:\n",
      "  (use \"git add <file>...\" to include in what will be committed)\n",
      "\t\u001b[31mhello\u001b[m\n",
      "\t\u001b[31mhello.o\u001b[m\n",
      "\n",
      "nothing added to commit but untracked files present (use \"git add\" to track)\n"
     ]
    }
   ],
   "source": [
    "git status"
   ]
  },
  {
   "cell_type": "code",
   "execution_count": 25,
   "id": "951ac113-5e25-4654-87e8-4e2cd35790a0",
   "metadata": {
    "slideshow": {
     "slide_type": "fragment"
    }
   },
   "outputs": [],
   "source": [
    "edit .gitignore\n",
    "/hello\n",
    "*.o\n",
    "EOF"
   ]
  },
  {
   "cell_type": "code",
   "execution_count": 26,
   "id": "9fe18ef9-9730-4e00-8228-c256e0586950",
   "metadata": {
    "slideshow": {
     "slide_type": "fragment"
    }
   },
   "outputs": [
    {
     "name": "stdout",
     "output_type": "stream",
     "text": [
      "On branch main\n",
      "Untracked files:\n",
      "  (use \"git add <file>...\" to include in what will be committed)\n",
      "\t\u001b[31m.gitignore\u001b[m\n",
      "\n",
      "nothing added to commit but untracked files present (use \"git add\" to track)\n"
     ]
    }
   ],
   "source": [
    "git status"
   ]
  },
  {
   "cell_type": "code",
   "execution_count": 27,
   "id": "aa7fb3aa-20ab-45a1-b49e-50f38c40ef37",
   "metadata": {
    "slideshow": {
     "slide_type": "fragment"
    }
   },
   "outputs": [
    {
     "name": "stdout",
     "output_type": "stream",
     "text": [
      "[main 2fb74d5] added .gitignore\n",
      " 1 file changed, 2 insertions(+)\n",
      " create mode 100644 .gitignore\n"
     ]
    }
   ],
   "source": [
    "git add .gitignore\n",
    "git commit -m \"added .gitignore\""
   ]
  },
  {
   "cell_type": "markdown",
   "id": "488ece7e-17d6-475d-82fe-d912fa6d341f",
   "metadata": {
    "slideshow": {
     "slide_type": "slide"
    }
   },
   "source": [
    "## Sauver le dépôt sur une forge\n",
    "\n",
    " * créer un compte sur une [Codeberg](https://codeberg.org)\n",
    "   * d'autres forges existent et fonctionnent de manière similaire\n",
    "   * [GitHub](https://github.com) plus (trop) de fonctionnalités, code fermé\n",
    "   * [GitLab](https://gitlab.com) version communautaire opensource\n",
    " * créer un dépôt\n",
    " * suivre les instructions pour envoyer notre code\n",
    "   * avec une clef SSH, connexion sans mot de passe\n",
    "   * sinon, le mot de passe est demandé"
   ]
  },
  {
   "cell_type": "code",
   "execution_count": 28,
   "id": "6d04ca5b-20ec-4c86-9eaf-6e762c2f446a",
   "metadata": {
    "slideshow": {
     "slide_type": "fragment"
    }
   },
   "outputs": [
    {
     "name": "stdout",
     "output_type": "stream",
     "text": [
      "Enumerating objects: 14, done.\n",
      "Counting objects: 100% (14/14), done.\n",
      "Delta compression using up to 8 threads\n",
      "Compressing objects: 100% (9/9), done.\n",
      "Writing objects: 100% (14/14), 1.15 KiB | 1.15 MiB/s, done.\n",
      "Total 14 (delta 2), reused 0 (delta 0), pack-reused 0\n",
      "remote: . Processing 1 references\u001b[K\n",
      "remote: Processed 1 references in total\u001b[K\n",
      "To codeberg.org:fpom/project.git\n",
      " * [new branch]      main -> main\n",
      "Branch 'main' set up to track remote branch 'main' from 'origin'.\n"
     ]
    }
   ],
   "source": [
    "git remote add origin git@codeberg.org:fpom/project.git\n",
    "git push -u origin main"
   ]
  },
  {
   "cell_type": "markdown",
   "id": "f6d08ae6-701e-4c1c-bfba-3be5619882e0",
   "metadata": {
    "slideshow": {
     "slide_type": "slide"
    }
   },
   "source": [
    "## Mettre à jour sur le serveur\n",
    "\n",
    " * faire des commits locaux\n",
    " * les pousser"
   ]
  },
  {
   "cell_type": "code",
   "execution_count": 29,
   "id": "e663de4e-8f80-4d32-ad6e-470a242a240b",
   "metadata": {
    "slideshow": {
     "slide_type": "fragment"
    }
   },
   "outputs": [],
   "source": [
    "edit Makefile\n",
    "\n",
    "clean:\n",
    "<TAB>rm -f hello *.o\n",
    "EOF"
   ]
  },
  {
   "cell_type": "code",
   "execution_count": 30,
   "id": "f997a46c-2f49-450a-85fa-de10acd78e0d",
   "metadata": {
    "slideshow": {
     "slide_type": "fragment"
    }
   },
   "outputs": [
    {
     "name": "stdout",
     "output_type": "stream",
     "text": [
      "[main 533bba7] added make clean\n",
      " 1 file changed, 3 insertions(+)\n",
      "Enumerating objects: 5, done.\n",
      "Counting objects: 100% (5/5), done.\n",
      "Delta compression using up to 8 threads\n",
      "Compressing objects: 100% (3/3), done.\n",
      "Writing objects: 100% (3/3), 321 bytes | 321.00 KiB/s, done.\n",
      "Total 3 (delta 1), reused 0 (delta 0), pack-reused 0\n",
      "remote: . Processing 1 references\u001b[K\n",
      "remote: Processed 1 references in total\u001b[K\n",
      "To codeberg.org:fpom/project.git\n",
      "   2fb74d5..533bba7  main -> main\n"
     ]
    }
   ],
   "source": [
    "git commit -a -m \"added make clean\"\n",
    "git push"
   ]
  },
  {
   "cell_type": "markdown",
   "id": "013c968f-32d8-4f0d-ba43-7fefa80fb21e",
   "metadata": {
    "slideshow": {
     "slide_type": "slide"
    }
   },
   "source": [
    "## Cloner un projet depuis serveur\n",
    "\n",
    " * récupérer le dépôt du serveur dans un autre répertoire\n",
    " * on aura deux versions du dépôts du projet\n",
    "   * `project` le dépôt primaire duquel on est parti, géré par _Franck Pommereau_\n",
    "   * `project-bis` un dépôt secondaire pour simuler la collarboration avec _Alain Turing_"
   ]
  },
  {
   "cell_type": "code",
   "execution_count": 31,
   "id": "41d65c13-8da0-4deb-be6e-33ec5bcec293",
   "metadata": {
    "slideshow": {
     "slide_type": "fragment"
    }
   },
   "outputs": [
    {
     "name": "stdout",
     "output_type": "stream",
     "text": [
      "Cloning into 'project-bis'...\n",
      "remote: Enumerating objects: 17, done.\u001b[K\n",
      "remote: Counting objects: 100% (17/17), done.\u001b[K\n",
      "remote: Compressing objects: 100% (12/12), done.\u001b[K\n",
      "remote: Total 17 (delta 4), reused 0 (delta 0), pack-reused 0\u001b[K\n",
      "Receiving objects: 100% (17/17), done.\n",
      "Resolving deltas: 100% (4/4), done.\n"
     ]
    }
   ],
   "source": [
    "cd ..\n",
    "git clone git@codeberg.org:fpom/project.git project-bis"
   ]
  },
  {
   "cell_type": "code",
   "execution_count": 32,
   "id": "6c2d3618-1b23-4c69-8cc2-525ec3188bcb",
   "metadata": {
    "slideshow": {
     "slide_type": "fragment"
    }
   },
   "outputs": [
    {
     "name": "stdout",
     "output_type": "stream",
     "text": [
      "total 51\n",
      "drwxrwxr-x 4 franck franck  7 Jun 23 14:40 .\n",
      "drwxrwxr-x 5 franck franck  9 Jun 23 14:40 ..\n",
      "drwxrwxr-x 8 franck franck 13 Jun 23 14:40 .git\n",
      "-rw-rw-r-- 1 franck franck 11 Jun 23 14:40 .gitignore\n",
      "-rw-rw-r-- 1 franck franck 82 Jun 23 14:40 Makefile\n",
      "-rw-rw-r-- 1 franck franck 63 Jun 23 14:40 README.md\n",
      "drwxrwxr-x 2 franck franck  3 Jun 23 14:40 src\n"
     ]
    }
   ],
   "source": [
    "cd project-bis\n",
    "ls -la"
   ]
  },
  {
   "cell_type": "code",
   "execution_count": 33,
   "id": "4acdc222-7044-4ffe-ae6a-e1664791d814",
   "metadata": {
    "slideshow": {
     "slide_type": "fragment"
    }
   },
   "outputs": [],
   "source": [
    "git config user.name \"Alain Turing\"\n",
    "git config user.email \"franck.pommereau@ibisc.univ-evry.fr\"\n",
    "git config core.editor \"kitty nvim\""
   ]
  },
  {
   "cell_type": "code",
   "execution_count": 34,
   "id": "f587336c-df93-4bff-92af-2e3c9d30e7ff",
   "metadata": {
    "slideshow": {
     "slide_type": "fragment"
    }
   },
   "outputs": [],
   "source": [
    "edit README.md\n",
    "\n",
    "Project updated from another repo.\n",
    "EOF"
   ]
  },
  {
   "cell_type": "code",
   "execution_count": 35,
   "id": "5f29dd3b-bcb7-4bbe-b6e2-37dd59e345cd",
   "metadata": {
    "slideshow": {
     "slide_type": "fragment"
    }
   },
   "outputs": [
    {
     "name": "stdout",
     "output_type": "stream",
     "text": [
      "[main a0c2869] update bis\n",
      " 1 file changed, 2 insertions(+)\n",
      "Enumerating objects: 5, done.\n",
      "Counting objects: 100% (5/5), done.\n",
      "Delta compression using up to 8 threads\n",
      "Compressing objects: 100% (3/3), done.\n",
      "Writing objects: 100% (3/3), 346 bytes | 346.00 KiB/s, done.\n",
      "Total 3 (delta 1), reused 0 (delta 0), pack-reused 0\n",
      "remote: . Processing 1 references\u001b[K\n",
      "remote: Processed 1 references in total\u001b[K\n",
      "To codeberg.org:fpom/project.git\n",
      "   533bba7..a0c2869  main -> main\n"
     ]
    }
   ],
   "source": [
    "git commit -a -m \"update bis\"\n",
    "git push"
   ]
  },
  {
   "cell_type": "markdown",
   "id": "ed6aadb8",
   "metadata": {
    "slideshow": {
     "slide_type": "slide"
    }
   },
   "source": [
    "## Récupérer les mises à jour depuis le serveur\n",
    "\n",
    " * retour du dépôt primaire pour y récupérer les changements d'Alain Turing"
   ]
  },
  {
   "cell_type": "code",
   "execution_count": 36,
   "id": "3ffe3509-f622-4f2c-b006-0cc98387c8cd",
   "metadata": {},
   "outputs": [
    {
     "name": "stdout",
     "output_type": "stream",
     "text": [
      "remote: Enumerating objects: 5, done.\u001b[K\n",
      "remote: Counting objects: 100% (5/5), done.\u001b[K\n",
      "remote: Compressing objects: 100% (3/3), done.\u001b[K\n",
      "remote: Total 3 (delta 1), reused 0 (delta 0), pack-reused 0\u001b[K\n",
      "Unpacking objects: 100% (3/3), 326 bytes | 326.00 KiB/s, done.\n",
      "From codeberg.org:fpom/project\n",
      "   533bba7..a0c2869  main       -> origin/main\n",
      "Updating 533bba7..a0c2869\n",
      "Fast-forward\n",
      " README.md | 2 \u001b[32m++\u001b[m\n",
      " 1 file changed, 2 insertions(+)\n"
     ]
    }
   ],
   "source": [
    "cd ../project\n",
    "git pull"
   ]
  },
  {
   "cell_type": "code",
   "execution_count": 37,
   "id": "b80c97d3-5969-499f-8746-4e029db7e28f",
   "metadata": {
    "slideshow": {
     "slide_type": "fragment"
    }
   },
   "outputs": [
    {
     "name": "stdout",
     "output_type": "stream",
     "text": [
      "# Sample project\n",
      "\n",
      "This is a sample project.\n",
      "To be continued...\n",
      "\n",
      "Project updated from another repo.\n"
     ]
    }
   ],
   "source": [
    "cat README.md"
   ]
  },
  {
   "cell_type": "markdown",
   "id": "32f42401-a9c8-4c9a-b8c9-9cfcbcdbc838",
   "metadata": {
    "slideshow": {
     "slide_type": "slide"
    }
   },
   "source": [
    "## Conflits et merge\n",
    "\n",
    " * on ne peut pas `push` vers un serveur qui possède une version plus récente\n",
    "   * il faut `pull` d'abord\n",
    "   * et donc gérer la fusion de versions différentes \n",
    " * d'abord on change depuis le dépôt primaire"
   ]
  },
  {
   "cell_type": "code",
   "execution_count": 38,
   "id": "f4cbf162-b35e-44b7-8b5b-353197a9d8c5",
   "metadata": {
    "slideshow": {
     "slide_type": "fragment"
    }
   },
   "outputs": [],
   "source": [
    "edit README.md\n",
    "One more line...\n",
    "EOF"
   ]
  },
  {
   "cell_type": "code",
   "execution_count": 39,
   "id": "b5a94436-76c9-46cb-8dab-6c33ff4749e5",
   "metadata": {
    "slideshow": {
     "slide_type": "fragment"
    }
   },
   "outputs": [
    {
     "name": "stdout",
     "output_type": "stream",
     "text": [
      "[main 5793204] update from main repo\n",
      " 1 file changed, 1 insertion(+)\n",
      "Enumerating objects: 5, done.\n",
      "Counting objects: 100% (5/5), done.\n",
      "Delta compression using up to 8 threads\n",
      "Compressing objects: 100% (3/3), done.\n",
      "Writing objects: 100% (3/3), 316 bytes | 316.00 KiB/s, done.\n",
      "Total 3 (delta 2), reused 0 (delta 0), pack-reused 0\n",
      "remote: . Processing 1 references\u001b[K\n",
      "remote: Processed 1 references in total\u001b[K\n",
      "To codeberg.org:fpom/project.git\n",
      "   a0c2869..5793204  main -> main\n"
     ]
    }
   ],
   "source": [
    "git commit -a -m \"update from main repo\"\n",
    "git push"
   ]
  },
  {
   "cell_type": "markdown",
   "id": "8bbcb3cf",
   "metadata": {
    "slideshow": {
     "slide_type": "fragment"
    }
   },
   "source": [
    " * retour au dépôt secondaire"
   ]
  },
  {
   "cell_type": "code",
   "execution_count": 40,
   "id": "0bb29180-9b62-4d4b-a946-710cdaaa7c5d",
   "metadata": {
    "slideshow": {
     "slide_type": "fragment"
    }
   },
   "outputs": [],
   "source": [
    "cd ../project-bis\n",
    "edit TODO.md\n",
    " * add documentation\n",
    "EOF"
   ]
  },
  {
   "cell_type": "code",
   "execution_count": 41,
   "id": "6bfb55d1-b25f-426c-9cb0-7e849f23dfc2",
   "metadata": {
    "slideshow": {
     "slide_type": "fragment"
    }
   },
   "outputs": [
    {
     "name": "stdout",
     "output_type": "stream",
     "text": [
      "[main e1027aa] update from secondary repo\n",
      " 1 file changed, 1 insertion(+)\n",
      " create mode 100644 TODO.md\n"
     ]
    }
   ],
   "source": [
    "git add TODO.md\n",
    "git commit -m \"update from secondary repo\""
   ]
  },
  {
   "cell_type": "code",
   "execution_count": 42,
   "id": "04b54cf7-794e-4165-81a4-2ef1d8f65e0a",
   "metadata": {
    "slideshow": {
     "slide_type": "fragment"
    }
   },
   "outputs": [
    {
     "name": "stdout",
     "output_type": "stream",
     "text": [
      "To codeberg.org:fpom/project.git\n",
      " \u001b[31m! [rejected]       \u001b[m main -> main (fetch first)\n",
      "\u001b[31merror: failed to push some refs to 'codeberg.org:fpom/project.git'\n",
      "\u001b[m\u001b[33mhint: Updates were rejected because the remote contains work that you do\u001b[m\n",
      "\u001b[33mhint: not have locally. This is usually caused by another repository pushing\u001b[m\n",
      "\u001b[33mhint: to the same ref. You may want to first integrate the remote changes\u001b[m\n",
      "\u001b[33mhint: (e.g., 'git pull ...') before pushing again.\u001b[m\n",
      "\u001b[33mhint: See the 'Note about fast-forwards' in 'git push --help' for details.\u001b[m\n"
     ]
    },
    {
     "ename": "",
     "evalue": "1",
     "output_type": "error",
     "traceback": []
    }
   ],
   "source": [
    "git push"
   ]
  },
  {
   "cell_type": "code",
   "execution_count": 43,
   "id": "93f9a0a3-f97d-434e-ad6b-a81b94ef2231",
   "metadata": {
    "slideshow": {
     "slide_type": "fragment"
    }
   },
   "outputs": [
    {
     "name": "stdout",
     "output_type": "stream",
     "text": [
      "remote: Enumerating objects: 5, done.\u001b[K\n",
      "remote: Counting objects: 100% (5/5), done.\u001b[K\n",
      "remote: Compressing objects: 100% (3/3), done.\u001b[K\n",
      "remote: Total 3 (delta 2), reused 0 (delta 0), pack-reused 0\u001b[K\n",
      "Unpacking objects: 100% (3/3), 296 bytes | 296.00 KiB/s, done.\n",
      "From codeberg.org:fpom/project\n",
      "   a0c2869..5793204  main       -> origin/main\n",
      "\u001b[33mhint: You have divergent branches and need to specify how to reconcile them.\u001b[m\n",
      "\u001b[33mhint: You can do so by running one of the following commands sometime before\u001b[m\n",
      "\u001b[33mhint: your next pull:\u001b[m\n",
      "\u001b[33mhint: \u001b[m\n",
      "\u001b[33mhint:   git config pull.rebase false  # merge (the default strategy)\u001b[m\n",
      "\u001b[33mhint:   git config pull.rebase true   # rebase\u001b[m\n",
      "\u001b[33mhint:   git config pull.ff only       # fast-forward only\u001b[m\n",
      "\u001b[33mhint: \u001b[m\n",
      "\u001b[33mhint: You can replace \"git config\" with \"git config --global\" to set a default\u001b[m\n",
      "\u001b[33mhint: preference for all repositories. You can also pass --rebase, --no-rebase,\u001b[m\n",
      "\u001b[33mhint: or --ff-only on the command line to override the configured default per\u001b[m\n",
      "\u001b[33mhint: invocation.\u001b[m\n",
      "fatal: Need to specify how to reconcile divergent branches.\n"
     ]
    },
    {
     "ename": "",
     "evalue": "128",
     "output_type": "error",
     "traceback": []
    }
   ],
   "source": [
    "git pull"
   ]
  },
  {
   "cell_type": "code",
   "execution_count": 44,
   "id": "0bef8128-366e-40be-a270-ed2597e2d379",
   "metadata": {
    "slideshow": {
     "slide_type": "fragment"
    }
   },
   "outputs": [
    {
     "name": "stdout",
     "output_type": "stream",
     "text": [
      "\u001b[KMerge made by the 'ort' strategy.se the file... \n",
      " README.md | 1 \u001b[32m+\u001b[m\n",
      " 1 file changed, 1 insertion(+)\n"
     ]
    }
   ],
   "source": [
    "git config pull.rebase false\n",
    "git pull"
   ]
  },
  {
   "cell_type": "markdown",
   "id": "ee8a2eaa-a07a-45de-9ce8-10585fb8b728",
   "metadata": {
    "slideshow": {
     "slide_type": "fragment"
    }
   },
   "source": [
    " * on peut voir le log\n",
    " * mais le graphe des commits est plus explicite\n",
    "   * avec `gitk` localement\n",
    "   * sur la forge"
   ]
  },
  {
   "cell_type": "markdown",
   "id": "ce6d7a5f-1bd5-471e-b2c7-f2724e85f4af",
   "metadata": {
    "slideshow": {
     "slide_type": "slide"
    }
   },
   "source": [
    "## Gérer les conflits\n",
    "\n",
    " * quand les changements sont incompatibles\n",
    " * `git` montre des versions à réconcilier manuellement"
   ]
  },
  {
   "cell_type": "code",
   "execution_count": 45,
   "id": "741f0c9d-e808-45a6-bceb-660391ddf128",
   "metadata": {
    "slideshow": {
     "slide_type": "fragment"
    }
   },
   "outputs": [],
   "source": [
    "edit README.md\n",
    "One line from secondary repo...\n",
    "EOF"
   ]
  },
  {
   "cell_type": "code",
   "execution_count": 46,
   "id": "f1a53cfd-f84f-4c18-98c1-401702a43aa6",
   "metadata": {
    "slideshow": {
     "slide_type": "fragment"
    }
   },
   "outputs": [
    {
     "name": "stdout",
     "output_type": "stream",
     "text": [
      "[main 6f5925e] from secondary\n",
      " 1 file changed, 1 insertion(+)\n",
      "Enumerating objects: 12, done.\n",
      "Counting objects: 100% (12/12), done.\n",
      "Delta compression using up to 8 threads\n",
      "Compressing objects: 100% (7/7), done.\n",
      "Writing objects: 100% (8/8), 962 bytes | 962.00 KiB/s, done.\n",
      "Total 8 (delta 3), reused 0 (delta 0), pack-reused 0\n",
      "remote: . Processing 1 references\u001b[K\n",
      "remote: Processed 1 references in total\u001b[K\n",
      "To codeberg.org:fpom/project.git\n",
      "   5793204..6f5925e  main -> main\n"
     ]
    }
   ],
   "source": [
    "git commit -a -m \"from secondary\"\n",
    "git push"
   ]
  },
  {
   "cell_type": "markdown",
   "id": "0d00f89d",
   "metadata": {
    "slideshow": {
     "slide_type": "fragment"
    }
   },
   "source": [
    " * retour au dépôt principal"
   ]
  },
  {
   "cell_type": "code",
   "execution_count": 47,
   "id": "c34e9b85-753f-48cf-8303-a8a23ea6e11a",
   "metadata": {
    "slideshow": {
     "slide_type": "fragment"
    }
   },
   "outputs": [],
   "source": [
    "cd ../project\n",
    "edit README.md\n",
    "One line from primary repo...\n",
    "EOF"
   ]
  },
  {
   "cell_type": "code",
   "execution_count": 48,
   "id": "121dd60a-75d0-40d8-89b3-0443b2f8ff8d",
   "metadata": {
    "slideshow": {
     "slide_type": "fragment"
    }
   },
   "outputs": [
    {
     "name": "stdout",
     "output_type": "stream",
     "text": [
      "[main 7442783] from primary\n",
      " 1 file changed, 1 insertion(+)\n",
      "To codeberg.org:fpom/project.git\n",
      " \u001b[31m! [rejected]       \u001b[m main -> main (fetch first)\n",
      "\u001b[31merror: failed to push some refs to 'codeberg.org:fpom/project.git'\n",
      "\u001b[m\u001b[33mhint: Updates were rejected because the remote contains work that you do\u001b[m\n",
      "\u001b[33mhint: not have locally. This is usually caused by another repository pushing\u001b[m\n",
      "\u001b[33mhint: to the same ref. You may want to first integrate the remote changes\u001b[m\n",
      "\u001b[33mhint: (e.g., 'git pull ...') before pushing again.\u001b[m\n",
      "\u001b[33mhint: See the 'Note about fast-forwards' in 'git push --help' for details.\u001b[m\n"
     ]
    },
    {
     "ename": "",
     "evalue": "1",
     "output_type": "error",
     "traceback": []
    }
   ],
   "source": [
    "git commit -a -m \"from primary\"\n",
    "git push"
   ]
  },
  {
   "cell_type": "code",
   "execution_count": 49,
   "id": "cc22ee23-bb7a-4901-9572-9c47884d640c",
   "metadata": {
    "slideshow": {
     "slide_type": "fragment"
    }
   },
   "outputs": [
    {
     "name": "stdout",
     "output_type": "stream",
     "text": [
      "remote: Enumerating objects: 12, done.\u001b[K\n",
      "remote: Counting objects: 100% (12/12), done.\u001b[K\n",
      "remote: Compressing objects: 100% (7/7), done.\u001b[K\n",
      "remote: Total 8 (delta 3), reused 0 (delta 0), pack-reused 0\u001b[K\n",
      "Unpacking objects: 100% (8/8), 942 bytes | 942.00 KiB/s, done.\n",
      "From codeberg.org:fpom/project\n",
      "   5793204..6f5925e  main       -> origin/main\n",
      "Auto-merging README.md\n",
      "CONFLICT (content): Merge conflict in README.md\n",
      "Automatic merge failed; fix conflicts and then commit the result.\n"
     ]
    },
    {
     "ename": "",
     "evalue": "1",
     "output_type": "error",
     "traceback": []
    }
   ],
   "source": [
    "git config pull.rebase false\n",
    "git pull"
   ]
  },
  {
   "cell_type": "code",
   "execution_count": 50,
   "id": "2ec1698c-913a-4408-9637-9073e0046e6d",
   "metadata": {
    "slideshow": {
     "slide_type": "fragment"
    }
   },
   "outputs": [
    {
     "name": "stdout",
     "output_type": "stream",
     "text": [
      "On branch main\n",
      "Your branch and 'origin/main' have diverged,\n",
      "and have 1 and 3 different commits each, respectively.\n",
      "  (use \"git pull\" to merge the remote branch into yours)\n",
      "\n",
      "You have unmerged paths.\n",
      "  (fix conflicts and run \"git commit\")\n",
      "  (use \"git merge --abort\" to abort the merge)\n",
      "\n",
      "Changes to be committed:\n",
      "\t\u001b[32mnew file:   TODO.md\u001b[m\n",
      "\n",
      "Unmerged paths:\n",
      "  (use \"git add <file>...\" to mark resolution)\n",
      "\t\u001b[31mboth modified:   README.md\u001b[m\n",
      "\n"
     ]
    }
   ],
   "source": [
    "git status"
   ]
  },
  {
   "cell_type": "code",
   "execution_count": 51,
   "id": "604ac748-285f-4059-8e06-f0c600fd93cc",
   "metadata": {
    "slideshow": {
     "slide_type": "fragment"
    }
   },
   "outputs": [],
   "source": [
    "kitty vim README.md"
   ]
  },
  {
   "cell_type": "code",
   "execution_count": 52,
   "id": "f02b51aa-4df9-4b65-8502-7267ad01411f",
   "metadata": {
    "slideshow": {
     "slide_type": "fragment"
    }
   },
   "outputs": [
    {
     "name": "stdout",
     "output_type": "stream",
     "text": [
      "[main 1b4616a] solved conflict\n",
      "Enumerating objects: 10, done.\n",
      "Counting objects: 100% (10/10), done.\n",
      "Delta compression using up to 8 threads\n",
      "Compressing objects: 100% (6/6), done.\n",
      "Writing objects: 100% (6/6), 579 bytes | 579.00 KiB/s, done.\n",
      "Total 6 (delta 4), reused 0 (delta 0), pack-reused 0\n",
      "remote: . Processing 1 references\u001b[K\n",
      "remote: Processed 1 references in total\u001b[K\n",
      "To codeberg.org:fpom/project.git\n",
      "   6f5925e..1b4616a  main -> main\n"
     ]
    }
   ],
   "source": [
    "git add README.md\n",
    "git commit -m \"solved conflict\"\n",
    "git push"
   ]
  },
  {
   "cell_type": "markdown",
   "id": "7cfe3cf6",
   "metadata": {
    "slideshow": {
     "slide_type": "slide"
    }
   },
   "source": [
    "## Requêtes de `pull`/`merge`\n",
    "\n",
    " * sur les forges quand on veut contribuer à un projet\n",
    "   * les responsables ne donnent généralement pas le droit de `commit` directement\n",
    "   * on `fork` le projet ➡️ crée un dépôt identique dont on est propriétaire\n",
    "   * on l'utilise comme un dépôt qu'on aurait créé soi même\n",
    "   * quand on veut proposer les changements, on initie une requête de `pull` (_`pull` request_, parfois appelé _`merge` request_ sur certaines forges)\n",
    "   * les responsables du dépôt d'origine examinent nos changements, éventuellement ouvrir un dialogue pour demander des modifications, puis accepter ou pas la requête\n",
    "   * si elle est acceptée, la requête est `merge` dans le dépôt d'origine"
   ]
  }
 ],
 "metadata": {
  "celltoolbar": "Slideshow",
  "kernelspec": {
   "display_name": "Bash",
   "language": "bash",
   "name": "bash"
  },
  "language_info": {
   "codemirror_mode": "shell",
   "file_extension": ".sh",
   "mimetype": "text/x-sh",
   "name": "bash"
  }
 },
 "nbformat": 4,
 "nbformat_minor": 5
}
